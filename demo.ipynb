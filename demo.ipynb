{
 "cells": [
  {
   "cell_type": "code",
   "execution_count": 1,
   "metadata": {},
   "outputs": [],
   "source": [
    "%load_ext autoreload\n",
    "%autoreload 2"
   ]
  },
  {
   "cell_type": "code",
   "execution_count": 2,
   "metadata": {},
   "outputs": [
    {
     "name": "stdout",
     "output_type": "stream",
     "text": [
      "Using /home/lei/.cache/torch_extensions/py38_cu102 as PyTorch extensions root...\n",
      "Emitting ninja build file /home/lei/.cache/torch_extensions/py38_cu102/torchac_backend/build.ninja...\n",
      "Building extension module torchac_backend...\n",
      "Allowing ninja to set a default number of workers... (overridable by setting the environment variable MAX_JOBS=N)\n",
      "ninja: no work to do.\n",
      "Loading extension module torchac_backend...\n"
     ]
    }
   ],
   "source": [
    "import torch\n",
    "from torchvision import transforms, datasets\n",
    "import matplotlib.pyplot as plt\n",
    "from entropy_model import EntropyBottleneck\n",
    "import tqdm\n",
    "\n",
    "device = 'cuda:0' if torch.cuda.is_available() else 'cpu'"
   ]
  },
  {
   "cell_type": "code",
   "execution_count": 3,
   "metadata": {},
   "outputs": [],
   "source": [
    "transform = transforms.Compose([\n",
    "                transforms.ToTensor(),\n",
    "                transforms.Normalize((0.5, 0.5, 0.5), (0.5, 0.5, 0.5))\n",
    "                ])\n",
    "invTrans = transforms.Compose([ transforms.Normalize(mean = [ 0., 0., 0. ],\n",
    "                                                     std = [ 2, 2, 2 ]),\n",
    "                                transforms.Normalize(mean = [ -0.5, -0.5, -0.5 ],\n",
    "                                                     std = [ 1., 1., 1. ]),\n",
    "                               ])\n",
    "\n",
    "def plot_image(x_tensor):\n",
    "    plt.imshow(invTrans(x_tensor).permute(1,2,0))"
   ]
  },
  {
   "cell_type": "code",
   "execution_count": 4,
   "metadata": {},
   "outputs": [
    {
     "name": "stdout",
     "output_type": "stream",
     "text": [
      "Using downloaded and verified file: data/train_32x32.mat\n"
     ]
    }
   ],
   "source": [
    "dset = datasets.SVHN(root='data/', download=True, transform=transform)"
   ]
  },
  {
   "cell_type": "code",
   "execution_count": 5,
   "metadata": {},
   "outputs": [
    {
     "name": "stdout",
     "output_type": "stream",
     "text": [
      "573\n"
     ]
    }
   ],
   "source": [
    "loader = torch.utils.data.DataLoader(dset, batch_size=128, num_workers=2, pin_memory=True, shuffle=True)\n",
    "print(len(loader))"
   ]
  },
  {
   "cell_type": "code",
   "execution_count": 6,
   "metadata": {},
   "outputs": [],
   "source": [
    "it = iter(loader)"
   ]
  },
  {
   "cell_type": "code",
   "execution_count": 7,
   "metadata": {},
   "outputs": [],
   "source": [
    "x, y = next(it)"
   ]
  },
  {
   "cell_type": "code",
   "execution_count": 8,
   "metadata": {},
   "outputs": [
    {
     "data": {
      "image/png": "[encoded data removed]",
      "text/plain": [
       "<Figure size 432x288 with 1 Axes>"
      ]
     },
     "metadata": {
      "needs_background": "light"
     },
     "output_type": "display_data"
    }
   ],
   "source": [
    "plot_image(x[0])"
   ]
  },
  {
   "cell_type": "code",
   "execution_count": 9,
   "metadata": {},
   "outputs": [],
   "source": [
    "# define models\n",
    "class AutoencoderCompressor(torch.nn.Module):\n",
    "    def __init__(self, bottleneck_dim=32, img_size=(32, 32, 3), dim=16):\n",
    "        super(AutoencoderCompressor, self).__init__()\n",
    "        self.encoder = Encoder(img_size, dim)\n",
    "        self.decoder = Decoder(img_size, dim)\n",
    "        self.entropy_bottleneck = EntropyBottleneck(bottleneck_dim)\n",
    "    \n",
    "    def forward(self, x):\n",
    "        z = self.encoder(x)\n",
    "        z_tilde, likelihood = self.entropy_bottleneck(z) # use uniform noise during training, hard quantization during eval\n",
    "        x_hat = self.decoder(z_tilde)\n",
    "        return x_hat, likelihood\n",
    "\n",
    "class Decoder(torch.nn.Module):\n",
    "    def __init__(self, img_size, dim):\n",
    "        super(Decoder, self).__init__()\n",
    "\n",
    "        self.dim = dim\n",
    "        self.img_size = img_size\n",
    "\n",
    "\n",
    "        self.features_to_image = torch.nn.Sequential(\n",
    "            torch.nn.ConvTranspose2d(8 * dim, 4 * dim, 4, 2, 1),\n",
    "            torch.nn.ReLU(),\n",
    "            torch.nn.BatchNorm2d(4 * dim),\n",
    "            torch.nn.ConvTranspose2d(4 * dim, 2 * dim, 4, 2, 1),\n",
    "            torch.nn.ReLU(),\n",
    "            torch.nn.BatchNorm2d(2 * dim),\n",
    "            torch.nn.ConvTranspose2d(2 * dim, dim, 4, 2, 1),\n",
    "            torch.nn.ReLU(),\n",
    "            torch.nn.BatchNorm2d(dim),\n",
    "            torch.nn.ConvTranspose2d(dim, self.img_size[2], 4, 2, 1),\n",
    "            torch.nn.Tanh()\n",
    "        )\n",
    "\n",
    "    def forward(self, input_data):\n",
    "        return self.features_to_image(input_data)\n",
    "\n",
    "\n",
    "\n",
    "class Encoder(torch.nn.Module):\n",
    "    def __init__(self, img_size, dim):\n",
    "        \"\"\"\n",
    "        img_size : (int, int, int)\n",
    "            Height and width must be powers of 2.  E.g. (32, 32, 1) or\n",
    "            (64, 128, 3). Last number indicates number of channels, e.g. 1 for\n",
    "            grayscale or 3 for RGB\n",
    "        \"\"\"\n",
    "        super(Encoder, self).__init__()\n",
    "\n",
    "        self.img_size = img_size\n",
    "\n",
    "        self.image_to_features = torch.nn.Sequential(\n",
    "            torch.nn.Conv2d(self.img_size[2], dim, 4, 2, 1),\n",
    "            torch.nn.LeakyReLU(0.2),\n",
    "            torch.nn.Conv2d(dim, 2 * dim, 4, 2, 1),\n",
    "            torch.nn.LeakyReLU(0.2),\n",
    "            torch.nn.Conv2d(2 * dim, 4 * dim, 4, 2, 1),\n",
    "            torch.nn.LeakyReLU(0.2),\n",
    "            torch.nn.Conv2d(4 * dim, 8 * dim, 4, 2, 1),\n",
    "            torch.nn.LeakyReLU(0.2)\n",
    "        )\n",
    "\n",
    "    def forward(self, input_data):\n",
    "        x = self.image_to_features(input_data)\n",
    "        return x"
   ]
  },
  {
   "cell_type": "code",
   "execution_count": 10,
   "metadata": {},
   "outputs": [],
   "source": [
    "model = AutoencoderCompressor(bottleneck_dim=128)"
   ]
  },
  {
   "cell_type": "code",
   "execution_count": 11,
   "metadata": {},
   "outputs": [
    {
     "data": {
      "text/plain": [
       "torch.Size([128, 3, 32, 32])"
      ]
     },
     "execution_count": 11,
     "metadata": {},
     "output_type": "execute_result"
    }
   ],
   "source": [
    "x.shape"
   ]
  },
  {
   "cell_type": "code",
   "execution_count": 12,
   "metadata": {},
   "outputs": [],
   "source": [
    "x_hat, lik = model(x)"
   ]
  },
  {
   "cell_type": "code",
   "execution_count": 13,
   "metadata": {},
   "outputs": [
    {
     "data": {
      "text/plain": [
       "(torch.Size([128, 3, 32, 32]), torch.Size([128, 128, 2, 2]))"
      ]
     },
     "execution_count": 13,
     "metadata": {},
     "output_type": "execute_result"
    }
   ],
   "source": [
    "x_hat.shape, lik.shape"
   ]
  },
  {
   "cell_type": "code",
   "execution_count": 14,
   "metadata": {},
   "outputs": [],
   "source": [
    "# loss functions\n",
    "def rate_loss(likelihoods):\n",
    "    batch_size = likelihoods.shape[0]\n",
    "    rate_batch = -torch.sum(torch.log2(likelihoods)) # total rate of batch (factorized prior)\n",
    "    rate_per_sample = rate_batch / batch_size # rate per sample\n",
    "    return rate_per_sample\n",
    "\n",
    "def distortion_loss(x, x_hat):\n",
    "    # SED = squared-error-distortion\n",
    "    SED_batch = torch.linalg.vector_norm(x-x_hat, dim=(1,2,3))**2 # vector of SED for each element in batch\n",
    "    SED_per_sample = torch.mean(SED_batch)\n",
    "    return SED_per_sample"
   ]
  },
  {
   "cell_type": "code",
   "execution_count": 15,
   "metadata": {},
   "outputs": [],
   "source": [
    "# training loop\n",
    "def train_one_epoch(model, optimizer, loader, lmbda):\n",
    "    model.train()\n",
    "    \n",
    "    rate_epoch, distortion_epoch = 0, 0\n",
    "    for x, _ in loader:\n",
    "        \n",
    "        x = x.to(device)\n",
    "        optimizer.zero_grad()  # Clear gradients.\n",
    "        x_hat, likelihoods = model(x)  # Forward pass.\n",
    "        rate = rate_loss(likelihoods) # compute average rate\n",
    "        # rate = -torch.sum(torch.log2(likelihoods))\n",
    "        distortion = distortion_loss(x, x_hat) # compute average distortion\n",
    "        RD_loss = rate + lmbda * distortion\n",
    "        RD_loss.backward()  # Backward pass.\n",
    "        optimizer.step()  # Update model parameters.\n",
    "\n",
    "        rate_epoch += rate.item()\n",
    "        distortion_epoch += distortion.item()\n",
    "\n",
    "    return rate_epoch / len(loader), distortion_epoch / len(loader)\n",
    "\n",
    "\n",
    "@torch.no_grad()\n",
    "def test(model, loader):\n",
    "    model.eval()\n",
    "\n",
    "    total_correct = 0\n",
    "    for data in loader:\n",
    "        data.cuda()\n",
    "        logits = model(data.pos, data.batch)\n",
    "        pred = logits.argmax(dim=-1)\n",
    "        total_correct += int((pred == data.y).sum())\n",
    "\n",
    "    return total_correct / len(loader.dataset)"
   ]
  },
  {
   "cell_type": "code",
   "execution_count": 16,
   "metadata": {},
   "outputs": [],
   "source": [
    "model = AutoencoderCompressor(bottleneck_dim=128).to(device)\n",
    "optimizer = torch.optim.Adam(model.parameters(), lr=1e-3)"
   ]
  },
  {
   "cell_type": "code",
   "execution_count": 17,
   "metadata": {},
   "outputs": [
    {
     "name": "stdout",
     "output_type": "stream",
     "text": [
      "Epoch: 01, rate: 1331.3043 bps, distortion: 123.7885\n",
      "Epoch: 02, rate: 309.5639 bps, distortion: 82.5721\n",
      "Epoch: 03, rate: 156.9949 bps, distortion: 81.0199\n",
      "Epoch: 04, rate: 111.4237 bps, distortion: 79.1909\n",
      "Epoch: 05, rate: 89.9577 bps, distortion: 77.8102\n",
      "Epoch: 06, rate: 77.4923 bps, distortion: 76.1634\n"
     ]
    }
   ],
   "source": [
    "for epoch in range(1, 51):\n",
    "    r, d = train_one_epoch(model, optimizer, loader, lmbda=1.)\n",
    "    # test_acc = test(model, test_loader)\n",
    "    print(f'Epoch: {epoch:02d}, rate: {r:.4f} bps, distortion: {d:.4f}')"
   ]
  },
  {
   "cell_type": "code",
   "execution_count": null,
   "metadata": {},
   "outputs": [],
   "source": []
  }
 ],
 "metadata": {
  "kernelspec": {
   "display_name": "Python 3.8.13 ('pccai')",
   "language": "python",
   "name": "python3"
  },
  "language_info": {
   "codemirror_mode": {
    "name": "ipython",
    "version": 3
   },
   "file_extension": ".py",
   "mimetype": "text/x-python",
   "name": "python",
   "nbconvert_exporter": "python",
   "pygments_lexer": "ipython3",
   "version": "3.8.13"
  },
  "orig_nbformat": 4,
  "vscode": {
   "interpreter": {
    "hash": "183e7f806bcbb61d663dad6aba9fc871a48483ac915196e6d61b7057aa352d22"
   }
  }
 },
 "nbformat": 4,
 "nbformat_minor": 2
}
